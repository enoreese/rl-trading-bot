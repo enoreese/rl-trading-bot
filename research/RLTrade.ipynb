{
 "cells": [
  {
   "cell_type": "code",
   "execution_count": null,
   "outputs": [],
   "source": [
    "import pandas as pd\n",
    "import numpy as np"
   ],
   "metadata": {
    "collapsed": false,
    "pycharm": {
     "name": "#%%\n"
    }
   }
  },
  {
   "cell_type": "code",
   "execution_count": null,
   "outputs": [],
   "source": [
    "data_path = \"data/all_data_merged.csv\"\n",
    "train_path = \"data/train_data.csv\"\n",
    "test_path = \"data/test_data.csv\""
   ],
   "metadata": {
    "collapsed": false,
    "pycharm": {
     "name": "#%%\n"
    }
   }
  },
  {
   "cell_type": "code",
   "execution_count": null,
   "outputs": [],
   "source": [
    "from tensortrade.feed.core import Stream, DataFeed, NameSpace"
   ],
   "metadata": {
    "collapsed": false,
    "pycharm": {
     "name": "#%%\n"
    }
   }
  },
  {
   "cell_type": "code",
   "execution_count": null,
   "outputs": [],
   "source": [
    "# define exchange\n",
    "from tensortrade.oms.exchanges import Exchange\n",
    "from tensortrade.oms.services.execution.simulated import execute_order\n",
    "from tensortrade.oms.instruments import USD, BTC, ETH, LTC\n",
    "from tensortrade.oms.wallets import Wallet, Portfolio"
   ],
   "metadata": {
    "collapsed": false,
    "pycharm": {
     "name": "#%%\n"
    }
   }
  },
  {
   "cell_type": "code",
   "execution_count": null,
   "outputs": [],
   "source": [
    "import tensortrade.env.default as default"
   ],
   "metadata": {
    "collapsed": false,
    "pycharm": {
     "name": "#%%\n"
    }
   }
  },
  {
   "cell_type": "code",
   "execution_count": null,
   "outputs": [],
   "source": [
    "from tensortrade.agents import DQNAgent"
   ],
   "metadata": {
    "collapsed": false,
    "pycharm": {
     "name": "#%%\n"
    }
   }
  },
  {
   "cell_type": "markdown",
   "source": [
    "#### Create train/test set"
   ],
   "metadata": {
    "collapsed": false
   }
  },
  {
   "cell_type": "code",
   "execution_count": null,
   "outputs": [],
   "source": [
    "all_data = pd.read_csv(data_path, index_col=0)\n",
    "all_data.head()"
   ],
   "metadata": {
    "collapsed": false,
    "pycharm": {
     "name": "#%%\n"
    }
   }
  },
  {
   "cell_type": "code",
   "execution_count": null,
   "outputs": [],
   "source": [
    "all_data.tail()"
   ],
   "metadata": {
    "collapsed": false,
    "pycharm": {
     "name": "#%%\n"
    }
   }
  },
  {
   "cell_type": "code",
   "execution_count": null,
   "outputs": [],
   "source": [
    "all_data.index = pd.to_datetime(all_data.index)"
   ],
   "metadata": {
    "collapsed": false,
    "pycharm": {
     "name": "#%%\n"
    }
   }
  },
  {
   "cell_type": "code",
   "execution_count": null,
   "outputs": [],
   "source": [
    "test_data = all_data[all_data.index.year==2020]\n",
    "train_data = all_data[all_data.index.year!=2020]"
   ],
   "metadata": {
    "collapsed": false,
    "pycharm": {
     "name": "#%%\n"
    }
   }
  },
  {
   "cell_type": "code",
   "execution_count": null,
   "outputs": [],
   "source": [
    "train_data.shape, test_data.shape"
   ],
   "metadata": {
    "collapsed": false,
    "pycharm": {
     "name": "#%%\n"
    }
   }
  },
  {
   "cell_type": "code",
   "execution_count": null,
   "outputs": [],
   "source": [
    "train_data.head()"
   ],
   "metadata": {
    "collapsed": false,
    "pycharm": {
     "name": "#%%\n"
    }
   }
  },
  {
   "cell_type": "code",
   "execution_count": null,
   "outputs": [],
   "source": [
    "test_data.head()"
   ],
   "metadata": {
    "collapsed": false,
    "pycharm": {
     "name": "#%%\n"
    }
   }
  },
  {
   "cell_type": "code",
   "execution_count": null,
   "outputs": [],
   "source": [
    "# save\n",
    "train_data.to_csv(\"data/train_data.csv\")\n",
    "test_data.to_csv(\"data/test_data.csv\")"
   ],
   "metadata": {
    "collapsed": false,
    "pycharm": {
     "name": "#%%\n"
    }
   }
  },
  {
   "cell_type": "markdown",
   "source": [
    "#### Baseline"
   ],
   "metadata": {
    "collapsed": false
   }
  },
  {
   "cell_type": "code",
   "execution_count": null,
   "outputs": [],
   "source": [
    "def fetch_data(path):\n",
    "    df = pd.read_csv(path, index_col=0)\n",
    "    \n",
    "    drop_cols = [col for col in df.columns if \"tweet\" in str(col).split(\"_\")]\n",
    "    print(drop_cols)\n",
    "    \n",
    "    df = data.select_dtypes(include=['float'])\n",
    "    df.index = pd.to_datetime(df.index)\n",
    "    df[\"month\"] = df.index.month\n",
    "    df[\"year\"] = df.index.year\n",
    "    df[\"week\"] = df.index.week\n",
    "    df[\"day\"] = df.index.day\n",
    "    return df"
   ],
   "metadata": {
    "collapsed": false,
    "pycharm": {
     "name": "#%%\n"
    }
   }
  },
  {
   "cell_type": "code",
   "execution_count": null,
   "outputs": [],
   "source": [
    "with NameSpace(\"bitfinex\"):\n",
    "    nodes = [Stream.source(data[name].tolist(), dtype=\"float\").rename(name) for name in data.columns]"
   ],
   "metadata": {
    "collapsed": false,
    "pycharm": {
     "name": "#%%\n"
    }
   }
  },
  {
   "cell_type": "code",
   "execution_count": null,
   "outputs": [],
   "source": [
    "data_feed = DataFeed(nodes)"
   ],
   "metadata": {
    "collapsed": false,
    "pycharm": {
     "name": "#%%\n"
    }
   }
  },
  {
   "cell_type": "code",
   "execution_count": null,
   "outputs": [],
   "source": [
    "data_feed.next()"
   ],
   "metadata": {
    "collapsed": false,
    "pycharm": {
     "name": "#%%\n"
    }
   }
  },
  {
   "cell_type": "code",
   "execution_count": null,
   "outputs": [],
   "source": [
    "bitfinex = Exchange(\"bitfinex\", service=execute_order)(\n",
    "    Stream.source(data[\"btc_close\"].tolist(), dtype=\"float\").rename(\"USD-BTC\"),\n",
    "    Stream.source(data[\"ltc_close\"].tolist(), dtype=\"float\").rename(\"USD-LTC\"),\n",
    "    Stream.source(data[\"eth_close\"].tolist(), dtype=\"float\").rename(\"USD-ETH\")\n",
    ")"
   ],
   "metadata": {
    "collapsed": false,
    "pycharm": {
     "name": "#%%\n"
    }
   }
  },
  {
   "cell_type": "code",
   "execution_count": null,
   "outputs": [],
   "source": [
    "portfolio = Portfolio(USD, [\n",
    "    Wallet(bitfinex, 1000 * USD),\n",
    "    Wallet(bitfinex, 0 * BTC),\n",
    "    Wallet(bitfinex, 0 * LTC),\n",
    "    Wallet(bitfinex, 0 * ETH)\n",
    "])"
   ],
   "metadata": {
    "collapsed": false,
    "pycharm": {
     "name": "#%%\n"
    }
   }
  },
  {
   "cell_type": "code",
   "execution_count": null,
   "outputs": [],
   "source": [
    "env = default.create(\n",
    "    portfolio=portfolio,\n",
    "    action_scheme=\"managed-risk\",\n",
    "    reward_scheme=\"risk-adjusted\",\n",
    "    feed=data_feed,\n",
    "    renderer=\"screen-log\",\n",
    "    window_size=24\n",
    ")"
   ],
   "metadata": {
    "collapsed": false,
    "pycharm": {
     "name": "#%%\n"
    }
   }
  },
  {
   "cell_type": "code",
   "execution_count": null,
   "outputs": [],
   "source": [
    "agent = DQNAgent(env)"
   ],
   "metadata": {
    "collapsed": false,
    "pycharm": {
     "name": "#%%\n"
    }
   }
  },
  {
   "cell_type": "code",
   "execution_count": null,
   "outputs": [],
   "source": [
    "agent.train(n_episodes=2, n_steps=200, render_interval=10)"
   ],
   "metadata": {
    "collapsed": false,
    "pycharm": {
     "name": "#%%\n"
    }
   }
  },
  {
   "cell_type": "code",
   "execution_count": null,
   "outputs": [],
   "source": [
    "portfolio.performance.plot()"
   ],
   "metadata": {
    "collapsed": false,
    "pycharm": {
     "name": "#%%\n"
    }
   }
  },
  {
   "cell_type": "code",
   "execution_count": null,
   "outputs": [],
   "source": [
    "portfolio.performance.net_worth.plot()"
   ],
   "metadata": {
    "collapsed": false,
    "pycharm": {
     "name": "#%%\n"
    }
   }
  },
  {
   "cell_type": "markdown",
   "source": [
    "### Custom Agents"
   ],
   "metadata": {
    "collapsed": false
   }
  },
  {
   "cell_type": "code",
   "execution_count": null,
   "outputs": [],
   "source": [
    "from sklearn.preprocessing import StandardScaler, RobustScaler, LabelEncoder, OneHotEncoder"
   ],
   "metadata": {
    "collapsed": false,
    "pycharm": {
     "name": "#%%\n"
    }
   }
  },
  {
   "cell_type": "code",
   "execution_count": null,
   "outputs": [],
   "source": [
    "from numpy import hstack"
   ],
   "metadata": {
    "collapsed": false,
    "pycharm": {
     "name": "#%%\n"
    }
   }
  },
  {
   "cell_type": "code",
   "execution_count": null,
   "outputs": [],
   "source": [
    "from tensortrade.env.default.renderers import PlotlyTradingChart, FileLogger\n",
    "\n",
    "chart_renderer = PlotlyTradingChart(\n",
    "    display=True,  # show the chart on screen (default)\n",
    "    height=800,  # affects both displayed and saved file height. None for 100% height.\n",
    "    save_format=\"html\",  # save the chart to an HTML file\n",
    "    auto_open_html=True,  # open the saved HTML chart in a new browser tab\n",
    ")\n",
    "\n",
    "file_logger = FileLogger(\n",
    "    filename=\"agent_train.log\",  # omit or None for automatic file name\n",
    "    path=\"training_logs\"  # create a new directory if doesn't exist, None for no directory\n",
    ")"
   ],
   "metadata": {
    "collapsed": false,
    "pycharm": {
     "name": "#%%\n"
    }
   }
  },
  {
   "cell_type": "code",
   "execution_count": null,
   "outputs": [],
   "source": [
    "def fetch_data(path, normalize=True, train=True, scalers=None):\n",
    "    print(\"Reading Data...\")\n",
    "    df = pd.read_csv(path, index_col=0)\n",
    "    if train:\n",
    "        scalers = {\n",
    "            \"num\": StandardScaler(),\n",
    "            \"cat\": {\n",
    "                \"year\": LabelEncoder().fit([2017, 2018, 2019, 2020])\n",
    "            },\n",
    "            \"ohe\": OneHotEncoder()\n",
    "        }\n",
    "        \n",
    "    df = df.select_dtypes(include=['float'])\n",
    "    price_data = df.iloc[:, :15]\n",
    "    \n",
    "    df.index = pd.to_datetime(df.index)\n",
    "    df[\"month\"] = df.index.month\n",
    "    df[\"year\"] = df.index.year\n",
    "    df[\"week\"] = df.index.week\n",
    "    df[\"day\"] = df.index.day\n",
    "    \n",
    "    features = df.values\n",
    "    cat_cols = [\"week\", \"year\", \"month\", \"day\"]\n",
    "    num_feature_cols = [col for col in df.columns if col not in cat_cols]\n",
    "    all_cols = df.columns\n",
    "    \n",
    "    if normalize:\n",
    "        print(\"Normalizing Data...\")\n",
    "        if train:\n",
    "            scalers['num'].fit(df[num_feature_cols].values)\n",
    "        \n",
    "        num_features = scalers['num'].transform(df[num_feature_cols].values)\n",
    "        cat_features = []\n",
    "        print(\"Label encoding data...\")\n",
    "        for cat_col in cat_cols:\n",
    "            if train:\n",
    "                if cat_col not in scalers['cat']:\n",
    "                    scalers['cat'][cat_col] = LabelEncoder()\n",
    "                    scalers['cat'][cat_col].fit(df[cat_col].values)\n",
    "            cat_features.append((scalers['cat'][cat_col].transform(df[cat_col].values)).reshape(-1,1))\n",
    "\n",
    "        cat_features = hstack(cat_features)\n",
    "        features = hstack([\n",
    "            num_features,\n",
    "            cat_features\n",
    "        ])\n",
    "    \n",
    "    features_df = pd.DataFrame(features, columns=all_cols)\n",
    "    \n",
    "    return features_df, price_data, scalers"
   ],
   "metadata": {
    "collapsed": false,
    "pycharm": {
     "name": "#%%\n"
    }
   }
  },
  {
   "cell_type": "code",
   "execution_count": null,
   "outputs": [],
   "source": [
    "from tensortrade.env.generic.components.renderer import AggregateRenderer\n",
    "from typing import Union\n",
    "\n",
    "from tensortrade.env.default import actions\n",
    "from tensortrade.env.default import rewards\n",
    "from tensortrade.env.default import observers\n",
    "from tensortrade.env.default import stoppers\n",
    "from tensortrade.env.default import informers\n",
    "from tensortrade.env.default import renderers"
   ],
   "metadata": {
    "collapsed": false,
    "pycharm": {
     "name": "#%%\n"
    }
   }
  },
  {
   "cell_type": "code",
   "execution_count": null,
   "outputs": [],
   "source": [
    "def create_env(path, window_size=24, capital=1000, action='managed-risk', reward='risk-adjusted', train=True, scalers=None):\n",
    "    features_df, price_df, scalers = fetch_data(path, train=train, scalers=scalers)\n",
    "    \n",
    "    with NameSpace(\"bitfinex\"):\n",
    "        streams = [Stream.source(features_df[name].tolist(), dtype=\"float\").rename(name) for name in features_df.columns]\n",
    "    \n",
    "    data_feed = DataFeed(streams)\n",
    "    \n",
    "    renderer_feed = DataFeed([\n",
    "        Stream.source(price_df[c].tolist(), dtype=\"float\").rename(c) for c in price_df.columns]\n",
    "    )\n",
    "    \n",
    "    bitfinex = Exchange(\"bitfinex\", service=execute_order)(\n",
    "        Stream.source(price_df[\"btc_close\"].tolist(), dtype=\"float\").rename(\"USD-BTC\"),\n",
    "        Stream.source(price_df[\"ltc_close\"].tolist(), dtype=\"float\").rename(\"USD-LTC\"),\n",
    "        Stream.source(price_df[\"eth_close\"].tolist(), dtype=\"float\").rename(\"USD-ETH\")\n",
    "    )\n",
    "    \n",
    "    portfolio = Portfolio(USD, [\n",
    "        Wallet(bitfinex, capital * USD),\n",
    "        Wallet(bitfinex, 0 * BTC),\n",
    "        Wallet(bitfinex, 0 * LTC),\n",
    "        Wallet(bitfinex, 0 * ETH)\n",
    "    ])\n",
    "    \n",
    "    env = default.create(\n",
    "        portfolio=portfolio,\n",
    "        action_scheme=action,\n",
    "        reward_scheme=reward,\n",
    "        feed=data_feed,\n",
    "        renderer_feed=renderer_feed,\n",
    "        renderers=[\n",
    "            chart_renderer,\n",
    "            file_logger\n",
    "        ],\n",
    "        window_size=window_size\n",
    "    )\n",
    "    return env, portfolio, scalers"
   ],
   "metadata": {
    "collapsed": false,
    "pycharm": {
     "name": "#%%\n"
    }
   }
  },
  {
   "cell_type": "code",
   "execution_count": null,
   "outputs": [],
   "source": [
    "from tensorforce.environments import Environment as ForceEnvironment"
   ],
   "metadata": {
    "collapsed": false,
    "pycharm": {
     "name": "#%%\n"
    }
   }
  },
  {
   "cell_type": "code",
   "execution_count": null,
   "outputs": [],
   "source": [
    "from tensorforce.execution import Runner"
   ],
   "metadata": {
    "collapsed": false,
    "pycharm": {
     "name": "#%%\n"
    }
   }
  },
  {
   "cell_type": "code",
   "execution_count": null,
   "outputs": [],
   "source": [
    "from tensorforce.agents import Agent"
   ],
   "metadata": {
    "collapsed": false,
    "pycharm": {
     "name": "#%%\n"
    }
   }
  },
  {
   "cell_type": "markdown",
   "source": [
    "#### Tensorforce Agent"
   ],
   "metadata": {
    "collapsed": false
   }
  },
  {
   "cell_type": "code",
   "execution_count": null,
   "outputs": [],
   "source": [
    "%%time\n",
    "train_environment, train_portfolio, scalers = create_env(train_path)"
   ],
   "metadata": {
    "collapsed": false,
    "pycharm": {
     "name": "#%%\n"
    }
   }
  },
  {
   "cell_type": "code",
   "execution_count": null,
   "outputs": [],
   "source": [
    "%%time\n",
    "test_environment, test_portfolio, _ = create_env(test_path, train=False, scalers=scalers)"
   ],
   "metadata": {
    "collapsed": false,
    "pycharm": {
     "name": "#%%\n"
    }
   }
  },
  {
   "cell_type": "code",
   "execution_count": null,
   "outputs": [],
   "source": [
    "tensorforce_train_environment = ForceEnvironment.create(\n",
    "    environment=train_environment, max_episode_timesteps=500\n",
    ")"
   ],
   "metadata": {
    "collapsed": false,
    "pycharm": {
     "name": "#%%\n"
    }
   }
  },
  {
   "cell_type": "code",
   "execution_count": null,
   "outputs": [],
   "source": [
    "tensorforce_test_environment = ForceEnvironment.create(\n",
    "    environment=test_environment, max_episode_timesteps=500\n",
    ")"
   ],
   "metadata": {
    "collapsed": false,
    "pycharm": {
     "name": "#%%\n"
    }
   }
  },
  {
   "cell_type": "code",
   "execution_count": null,
   "outputs": [],
   "source": [
    "agent_spec = {\n",
    "    \"agent\": \"tensorforce\",\n",
    "    \"update\": 64,\n",
    "    \"optimizer\": {\n",
    "        \"optimizer\": \"adam\",\n",
    "        \"learning_rate\": 1e-3\n",
    "    },\n",
    "    \"objective\": \"policy_gradient\",\n",
    "    \"reward_estimation\": {\n",
    "        \"horizon\": 20\n",
    "    }\n",
    "}\n",
    "\n",
    "network_spec = [\n",
    "    dict(type='dense', size=64, activation=\"tanh\"),\n",
    "    dict(type='dense', size=32, activation=\"tanh\"),\n",
    "]\n",
    "\n",
    "agent = Agent.create(\n",
    "    agent=agent_spec,\n",
    "    states=tensorforce_train_environment.states(),\n",
    "    actions=tensorforce_train_environment.actions(),\n",
    "    policy=dict(\n",
    "        network=\"auto\"\n",
    "    )\n",
    ")"
   ],
   "metadata": {
    "collapsed": false,
    "pycharm": {
     "name": "#%%\n"
    }
   }
  },
  {
   "cell_type": "code",
   "execution_count": null,
   "outputs": [],
   "source": [
    "agent"
   ],
   "metadata": {
    "collapsed": false,
    "pycharm": {
     "name": "#%%\n"
    }
   }
  },
  {
   "cell_type": "code",
   "execution_count": null,
   "outputs": [],
   "source": [
    "train_runner = Runner(\n",
    "    agent=agent,\n",
    "    environment=dict(environment=tensorforce_train_environment),\n",
    "#     max_episode_timesteps=100\n",
    ")"
   ],
   "metadata": {
    "collapsed": false,
    "pycharm": {
     "name": "#%%\n"
    }
   }
  },
  {
   "cell_type": "code",
   "execution_count": null,
   "outputs": [],
   "source": [
    "train_runner.run(num_episodes=100)"
   ],
   "metadata": {
    "collapsed": false,
    "pycharm": {
     "name": "#%%\n"
    }
   }
  },
  {
   "cell_type": "code",
   "execution_count": null,
   "outputs": [],
   "source": [
    "train_portfolio.net_worth"
   ],
   "metadata": {
    "collapsed": false,
    "pycharm": {
     "name": "#%%\n"
    }
   }
  },
  {
   "cell_type": "code",
   "execution_count": null,
   "outputs": [],
   "source": [
    "train_environment.render()"
   ],
   "metadata": {
    "collapsed": false,
    "pycharm": {
     "name": "#%%\n"
    }
   }
  },
  {
   "cell_type": "code",
   "execution_count": null,
   "outputs": [],
   "source": [
    "train_portfolio.performance.net_worth.plot()"
   ],
   "metadata": {
    "collapsed": false,
    "pycharm": {
     "name": "#%%\n"
    }
   }
  },
  {
   "cell_type": "code",
   "execution_count": null,
   "outputs": [],
   "source": [
    "test_runner = Runner(\n",
    "    agent=agent,\n",
    "    environment=dict(environment=tensorforce_test_environment),\n",
    "#     max_episode_timesteps=100\n",
    ")"
   ],
   "metadata": {
    "collapsed": false,
    "pycharm": {
     "name": "#%%\n"
    }
   }
  },
  {
   "cell_type": "code",
   "execution_count": null,
   "outputs": [],
   "source": [
    "test_runner.run(num_episodes=100, evaluation=True)"
   ],
   "metadata": {
    "collapsed": false,
    "pycharm": {
     "name": "#%%\n"
    }
   }
  },
  {
   "cell_type": "code",
   "execution_count": null,
   "outputs": [],
   "source": [
    "test_portfolio.net_worth"
   ],
   "metadata": {
    "collapsed": false,
    "pycharm": {
     "name": "#%%\n"
    }
   }
  },
  {
   "cell_type": "code",
   "execution_count": null,
   "outputs": [],
   "source": [
    "test_portfolio.performance.net_worth.plot()"
   ],
   "metadata": {
    "collapsed": false,
    "pycharm": {
     "name": "#%%\n"
    }
   }
  },
  {
   "cell_type": "markdown",
   "source": [
    "#### PPO"
   ],
   "metadata": {
    "collapsed": false
   }
  },
  {
   "cell_type": "code",
   "execution_count": null,
   "outputs": [],
   "source": [
    "from tensorforce.agents import PPOAgent"
   ],
   "metadata": {
    "collapsed": false,
    "pycharm": {
     "name": "#%%\n"
    }
   }
  },
  {
   "cell_type": "code",
   "execution_count": null,
   "outputs": [],
   "source": [
    "%%time\n",
    "train_environment, train_portfolio, scalers = create_env(train_path)"
   ],
   "metadata": {
    "collapsed": false,
    "pycharm": {
     "name": "#%%\n"
    }
   }
  },
  {
   "cell_type": "code",
   "execution_count": null,
   "outputs": [],
   "source": [
    "%%time\n",
    "test_environment, test_portfolio, _ = create_env(test_path, train=False, scalers=scalers)"
   ],
   "metadata": {
    "collapsed": false,
    "pycharm": {
     "name": "#%%\n"
    }
   }
  },
  {
   "cell_type": "code",
   "execution_count": null,
   "outputs": [],
   "source": [
    "tensorforce_train_environment = ForceEnvironment.create(\n",
    "    environment=train_environment, max_episode_timesteps=1000\n",
    ")"
   ],
   "metadata": {
    "collapsed": false,
    "pycharm": {
     "name": "#%%\n"
    }
   }
  },
  {
   "cell_type": "code",
   "execution_count": null,
   "outputs": [],
   "source": [
    "tensorforce_test_environment = ForceEnvironment.create(\n",
    "    environment=test_environment, max_episode_timesteps=1000\n",
    ")"
   ],
   "metadata": {
    "collapsed": false,
    "pycharm": {
     "name": "#%%\n"
    }
   }
  },
  {
   "cell_type": "code",
   "execution_count": null,
   "outputs": [],
   "source": [
    "tensorforce_test_environment.states()[\"shape\"], tensorforce_train_environment.states()[\"shape\"]"
   ],
   "metadata": {
    "collapsed": false,
    "pycharm": {
     "name": "#%%\n"
    }
   }
  },
  {
   "cell_type": "code",
   "execution_count": null,
   "outputs": [],
   "source": [
    "network_spec = [\n",
    "    dict(type='dense', size=20, activation='relu'),\n",
    "    dict(type='dense', size=10, activation='relu'),\n",
    "]\n",
    "\n",
    "agent_spec = {\n",
    "    \"agent\": \"ppo\",\n",
    "#     \"update\": 64,\n",
    "#     \"optimizer\": \"adam\",\n",
    "    \"objective\": \"policy_gradient\",\n",
    "    \"reward_estimation\": {\n",
    "        \"horizon\": 20\n",
    "    }\n",
    "}\n",
    "\n",
    "ppo_agent = Agent.create(\n",
    "    agent=\"ppo\",\n",
    "    states=tensorforce_train_environment.states(),\n",
    "    actions=tensorforce_train_environment.actions(),\n",
    "    max_episode_timesteps=1000,\n",
    "    batch_size=32,\n",
    "    network=\"auto\"\n",
    ")"
   ],
   "metadata": {
    "collapsed": false,
    "pycharm": {
     "name": "#%%\n"
    }
   }
  },
  {
   "cell_type": "code",
   "execution_count": null,
   "outputs": [],
   "source": [
    "train_runner = Runner(\n",
    "    agent=ppo_agent,\n",
    "    environment=dict(environment=tensorforce_train_environment),\n",
    "#     max_episode_timesteps=100\n",
    ")"
   ],
   "metadata": {
    "collapsed": false,
    "pycharm": {
     "name": "#%%\n"
    }
   }
  },
  {
   "cell_type": "code",
   "execution_count": null,
   "outputs": [],
   "source": [
    "train_runner.run(num_episodes=200)"
   ],
   "metadata": {
    "collapsed": false,
    "pycharm": {
     "name": "#%%\n"
    }
   }
  },
  {
   "cell_type": "code",
   "execution_count": null,
   "outputs": [],
   "source": [
    "train_portfolio.net_worth"
   ],
   "metadata": {
    "collapsed": false,
    "pycharm": {
     "name": "#%%\n"
    }
   }
  },
  {
   "cell_type": "code",
   "execution_count": null,
   "outputs": [],
   "source": [
    "# environment.render()"
   ],
   "metadata": {
    "collapsed": false,
    "pycharm": {
     "name": "#%%\n"
    }
   }
  },
  {
   "cell_type": "code",
   "execution_count": null,
   "outputs": [],
   "source": [
    "train_portfolio.performance.net_worth.plot()"
   ],
   "metadata": {
    "collapsed": false,
    "pycharm": {
     "name": "#%%\n"
    }
   }
  },
  {
   "cell_type": "code",
   "execution_count": null,
   "outputs": [],
   "source": [
    "test_runner = Runner(\n",
    "    agent=ppo_agent,\n",
    "    environment=dict(environment=tensorforce_test_environment),\n",
    "#     max_episode_timesteps=100\n",
    ")"
   ],
   "metadata": {
    "collapsed": false,
    "pycharm": {
     "name": "#%%\n"
    }
   }
  },
  {
   "cell_type": "code",
   "execution_count": null,
   "outputs": [],
   "source": [
    "test_runner.run(num_episodes=100, evaluation=True)"
   ],
   "metadata": {
    "collapsed": false,
    "pycharm": {
     "name": "#%%\n"
    }
   }
  },
  {
   "cell_type": "code",
   "execution_count": null,
   "outputs": [],
   "source": [
    "test_portfolio.net_worth"
   ],
   "metadata": {
    "collapsed": false,
    "pycharm": {
     "name": "#%%\n"
    }
   }
  },
  {
   "cell_type": "code",
   "execution_count": null,
   "outputs": [],
   "source": [
    "test_portfolio.performance.net_worth.plot()"
   ],
   "metadata": {
    "collapsed": false,
    "pycharm": {
     "name": "#%%\n"
    }
   }
  },
  {
   "cell_type": "code",
   "execution_count": null,
   "outputs": [],
   "source": [],
   "metadata": {
    "collapsed": false,
    "pycharm": {
     "name": "#%%\n"
    }
   }
  },
  {
   "cell_type": "code",
   "execution_count": null,
   "outputs": [],
   "source": [
    "train_portfolio.net_worth"
   ],
   "metadata": {
    "collapsed": false,
    "pycharm": {
     "name": "#%%\n"
    }
   }
  },
  {
   "cell_type": "code",
   "execution_count": null,
   "outputs": [],
   "source": [
    "# environment.render()"
   ],
   "metadata": {
    "collapsed": false,
    "pycharm": {
     "name": "#%%\n"
    }
   }
  },
  {
   "cell_type": "code",
   "execution_count": null,
   "outputs": [],
   "source": [
    "train_portfolio.performance.net_worth.plot()"
   ],
   "metadata": {
    "collapsed": false,
    "pycharm": {
     "name": "#%%\n"
    }
   }
  },
  {
   "cell_type": "code",
   "execution_count": null,
   "outputs": [],
   "source": [
    "test_runner = Runner(\n",
    "    agent=ppo_agent,\n",
    "    environment=dict(environment=tensorforce_test_environment),\n",
    "#     max_episode_timesteps=100\n",
    ")"
   ],
   "metadata": {
    "collapsed": false,
    "pycharm": {
     "name": "#%%\n"
    }
   }
  },
  {
   "cell_type": "code",
   "execution_count": null,
   "outputs": [],
   "source": [
    "test_runner.run(num_episodes=100, evaluation=True)"
   ],
   "metadata": {
    "collapsed": false,
    "pycharm": {
     "name": "#%%\n"
    }
   }
  },
  {
   "cell_type": "code",
   "execution_count": null,
   "outputs": [],
   "source": [
    "test_portfolio.net_worth"
   ],
   "metadata": {
    "collapsed": false,
    "pycharm": {
     "name": "#%%\n"
    }
   }
  },
  {
   "cell_type": "code",
   "execution_count": null,
   "outputs": [],
   "source": [
    "test_portfolio.performance.net_worth.plot()"
   ],
   "metadata": {
    "collapsed": false,
    "pycharm": {
     "name": "#%%\n"
    }
   }
  },
  {
   "cell_type": "markdown",
   "source": [
    "#### PPO and Custom Action and Reward"
   ],
   "metadata": {
    "collapsed": false
   }
  },
  {
   "cell_type": "markdown",
   "source": [
    "##### Action"
   ],
   "metadata": {
    "collapsed": false
   }
  },
  {
   "cell_type": "code",
   "execution_count": null,
   "outputs": [],
   "source": [
    "action = actions.ManagedRiskOrders(\n",
    "    stop=[0.02, 0.04, 0.06, 0.08],\n",
    "    take=[0.01, 0.03, 0.05, 0.07],\n",
    "    trade_sizes=[1, 1/3],\n",
    "    durations=[5, 10, 20]\n",
    ")"
   ],
   "metadata": {
    "collapsed": false,
    "pycharm": {
     "name": "#%%\n"
    }
   }
  },
  {
   "cell_type": "markdown",
   "source": [
    "##### Reward"
   ],
   "metadata": {
    "collapsed": false
   }
  },
  {
   "cell_type": "code",
   "execution_count": null,
   "outputs": [],
   "source": [
    "from tensortrade.env.default.rewards import TensorTradeRewardScheme"
   ],
   "metadata": {
    "collapsed": false,
    "pycharm": {
     "name": "#%%\n"
    }
   }
  },
  {
   "cell_type": "code",
   "execution_count": null,
   "outputs": [],
   "source": [
    "!pip install empyrical"
   ],
   "metadata": {
    "collapsed": false,
    "pycharm": {
     "name": "#%%\n"
    }
   }
  },
  {
   "cell_type": "code",
   "execution_count": null,
   "outputs": [],
   "source": [
    "returns = np.array([.01, .02, .03, -.4, -.06, -.02])\n",
    "benchmark_returns = np.array([.02, .02, .03, -.35, -.05, -.01])\n",
    "\n",
    "# calculate the max drawdown\n",
    "calmar_ratio(returns)"
   ],
   "metadata": {
    "collapsed": false,
    "pycharm": {
     "name": "#%%\n"
    }
   }
  },
  {
   "cell_type": "code",
   "execution_count": null,
   "outputs": [],
   "source": [
    "from empyrical import calmar_ratio, max_drawdown\n",
    "\n",
    "class newManagedRisk(TensorTradeRewardScheme):\n",
    "    def __init__(self,\n",
    "                 return_algorithm: str = 'sharpe',\n",
    "                 risk_free_rate: float = 0.,\n",
    "                 target_returns: float = 0.,\n",
    "                 window_size: int = 1) -> None:\n",
    "        algorithm = self.default('return_algorithm', return_algorithm)\n",
    "\n",
    "        assert algorithm in ['calmar', 'maxdd', 'sharpe']\n",
    "\n",
    "        if algorithm == 'calmar':\n",
    "            return_algorithm = self._calmar_ratio\n",
    "        elif algorithm == 'maxdd':\n",
    "            return_algorithm = self._max_dd\n",
    "        elif algorithm == 'sharpe':\n",
    "            return_algorithm = self._sharpe_ratio\n",
    "\n",
    "        self._return_algorithm = return_algorithm\n",
    "        self._risk_free_rate = self.default('risk_free_rate', risk_free_rate)\n",
    "        self._target_returns = self.default('target_returns', target_returns)\n",
    "        self._window_size = self.default('window_size', window_size)\n",
    "\n",
    "    def _calmar_ratio(self, returns: 'pd.Series') -> float:\n",
    "        \"\"\"Computes the sharpe ratio for a given series of a returns.\n",
    "\n",
    "        Parameters\n",
    "        ----------\n",
    "        returns : `pd.Series`\n",
    "            The returns for the `portfolio`.\n",
    "\n",
    "        Returns\n",
    "        -------\n",
    "        float\n",
    "            The calmar ratio for the given series of a `returns`.\n",
    "\n",
    "        References\n",
    "        ----------\n",
    "        .. [1] https://en.wikipedia.org/wiki/Sharpe_ratio\n",
    "        \"\"\"\n",
    "        def annual_returns(returns):\n",
    "            num_years = len(returns) / 252\n",
    "\n",
    "            cum_ret_final = (returns + 1).prod().squeeze()\n",
    "\n",
    "            return cum_ret_final ** (1 / num_years) - 1\n",
    "        \n",
    "        max_dd = max_drawdown(returns)\n",
    "        if max_dd < 0:\n",
    "            return annual_returns(returns) / abs(max_dd)\n",
    "\n",
    "        return 0\n",
    "    \n",
    "    def _max_dd(self, returns: 'pd.Series') -> float:\n",
    "        \"\"\"Computes the sharpe ratio for a given series of a returns.\n",
    "\n",
    "        Parameters\n",
    "        ----------\n",
    "        returns : `pd.Series`\n",
    "            The returns for the `portfolio`.\n",
    "\n",
    "        Returns\n",
    "        -------\n",
    "        float\n",
    "            The sharpe ratio for the given series of a `returns`.\n",
    "\n",
    "        References\n",
    "        ----------\n",
    "        .. [1] https://en.wikipedia.org/wiki/Sharpe_ratio\n",
    "        \"\"\"\n",
    "        return max_drawdown(returns.values) - self._risk_free_rate + 1e-9\n",
    "    \n",
    "    def _sharpe_ratio(self, returns: 'pd.Series') -> float:\n",
    "        \"\"\"Computes the sharpe ratio for a given series of a returns.\n",
    "\n",
    "        Parameters\n",
    "        ----------\n",
    "        returns : `pd.Series`\n",
    "            The returns for the `portfolio`.\n",
    "\n",
    "        Returns\n",
    "        -------\n",
    "        float\n",
    "            The sharpe ratio for the given series of a `returns`.\n",
    "\n",
    "        References\n",
    "        ----------\n",
    "        .. [1] https://en.wikipedia.org/wiki/Sharpe_ratio\n",
    "        \"\"\"\n",
    "        return (np.mean(returns) - self._risk_free_rate + 1e-9) / (np.std(returns) + 1e-9)\n",
    "    \n",
    "    def get_reward(self, portfolio: 'Portfolio') -> float:\n",
    "        \"\"\"Computes the reward corresponding to the selected risk-adjusted return metric.\n",
    "\n",
    "        Parameters\n",
    "        ----------\n",
    "        portfolio : `Portfolio`\n",
    "            The current portfolio being used by the environment.\n",
    "\n",
    "        Returns\n",
    "        -------\n",
    "        float\n",
    "            The reward corresponding to the selected risk-adjusted return metric.\n",
    "        \"\"\"\n",
    "        returns = portfolio.performance['net_worth'][-(self._window_size + 1):].pct_change().dropna()\n",
    "        risk_adjusted_return = self._return_algorithm(returns)\n",
    "\n",
    "        return risk_adjusted_return"
   ],
   "metadata": {
    "collapsed": false,
    "pycharm": {
     "name": "#%%\n"
    }
   }
  },
  {
   "cell_type": "markdown",
   "source": [
    "##### "
   ],
   "metadata": {
    "collapsed": false
   }
  },
  {
   "cell_type": "code",
   "execution_count": null,
   "outputs": [],
   "source": [
    "%%time\n",
    "train_environment, train_portfolio, scalers = create_env(train_path, reward=newManagedRisk(return_algorithm='calmar'))"
   ],
   "metadata": {
    "collapsed": false,
    "pycharm": {
     "name": "#%%\n"
    }
   }
  },
  {
   "cell_type": "code",
   "execution_count": null,
   "outputs": [],
   "source": [
    "%%time\n",
    "test_environment, test_portfolio, _ = create_env(test_path, train=False, scalers=scalers, reward=newManagedRisk(return_algorithm='calmar'))"
   ],
   "metadata": {
    "collapsed": false,
    "pycharm": {
     "name": "#%%\n"
    }
   }
  },
  {
   "cell_type": "code",
   "execution_count": null,
   "outputs": [],
   "source": [
    "tensorforce_train_environment = ForceEnvironment.create(\n",
    "    environment=train_environment, max_episode_timesteps=500\n",
    ")"
   ],
   "metadata": {
    "collapsed": false,
    "pycharm": {
     "name": "#%%\n"
    }
   }
  },
  {
   "cell_type": "code",
   "execution_count": null,
   "outputs": [],
   "source": [
    "tensorforce_test_environment = ForceEnvironment.create(\n",
    "    environment=test_environment, max_episode_timesteps=500\n",
    ")"
   ],
   "metadata": {
    "collapsed": false,
    "pycharm": {
     "name": "#%%\n"
    }
   }
  },
  {
   "cell_type": "code",
   "execution_count": null,
   "outputs": [],
   "source": [
    "tensorforce_test_environment.states()[\"shape\"], tensorforce_train_environment.states()[\"shape\"]"
   ],
   "metadata": {
    "collapsed": false,
    "pycharm": {
     "name": "#%%\n"
    }
   }
  },
  {
   "cell_type": "code",
   "execution_count": null,
   "outputs": [],
   "source": [
    "network_spec = [\n",
    "    dict(type='dense', size=20, activation='relu'),\n",
    "    dict(type='dense', size=10, activation='relu'),\n",
    "]\n",
    "\n",
    "agent_spec = {\n",
    "    \"agent\": \"ppo\",\n",
    "#     \"update\": 64,\n",
    "#     \"optimizer\": \"adam\",\n",
    "    \"objective\": \"policy_gradient\",\n",
    "    \"reward_estimation\": {\n",
    "        \"horizon\": 20\n",
    "    }\n",
    "}\n",
    "\n",
    "ppo_agent = Agent.create(\n",
    "    agent=\"ppo\",\n",
    "    states=tensorforce_train_environment.states(),\n",
    "    actions=tensorforce_train_environment.actions(),\n",
    "    max_episode_timesteps=500,\n",
    "    batch_size=32,\n",
    "    network=\"auto\"\n",
    ")"
   ],
   "metadata": {
    "collapsed": false,
    "pycharm": {
     "name": "#%%\n"
    }
   }
  },
  {
   "cell_type": "code",
   "execution_count": null,
   "outputs": [],
   "source": [
    "train_runner = Runner(\n",
    "    agent=ppo_agent,\n",
    "    environment=dict(environment=tensorforce_train_environment),\n",
    "#     max_episode_timesteps=100\n",
    ")"
   ],
   "metadata": {
    "collapsed": false,
    "pycharm": {
     "name": "#%%\n"
    }
   }
  },
  {
   "cell_type": "code",
   "execution_count": null,
   "outputs": [],
   "source": [
    "train_runner.run(num_episodes=100)"
   ],
   "metadata": {
    "collapsed": false,
    "pycharm": {
     "name": "#%%\n"
    }
   }
  },
  {
   "cell_type": "code",
   "execution_count": null,
   "outputs": [],
   "source": [
    "train_portfolio.net_worth"
   ],
   "metadata": {
    "collapsed": false,
    "pycharm": {
     "name": "#%%\n"
    }
   }
  },
  {
   "cell_type": "code",
   "execution_count": null,
   "outputs": [],
   "source": [
    "# environment.render()"
   ],
   "metadata": {
    "collapsed": false,
    "pycharm": {
     "name": "#%%\n"
    }
   }
  },
  {
   "cell_type": "code",
   "execution_count": null,
   "outputs": [],
   "source": [
    "train_portfolio.performance.net_worth.plot()"
   ],
   "metadata": {
    "collapsed": false,
    "pycharm": {
     "name": "#%%\n"
    }
   }
  },
  {
   "cell_type": "code",
   "execution_count": null,
   "outputs": [],
   "source": [
    "test_runner = Runner(\n",
    "    agent=ppo_agent,\n",
    "    environment=dict(environment=tensorforce_test_environment),\n",
    "#     max_episode_timesteps=100\n",
    ")"
   ],
   "metadata": {
    "collapsed": false,
    "pycharm": {
     "name": "#%%\n"
    }
   }
  },
  {
   "cell_type": "code",
   "execution_count": null,
   "outputs": [],
   "source": [
    "test_runner.run(num_episodes=50, evaluation=True)"
   ],
   "metadata": {
    "collapsed": false,
    "pycharm": {
     "name": "#%%\n"
    }
   }
  },
  {
   "cell_type": "code",
   "execution_count": null,
   "outputs": [],
   "source": [
    "test_portfolio.net_worth"
   ],
   "metadata": {
    "collapsed": false,
    "pycharm": {
     "name": "#%%\n"
    }
   }
  },
  {
   "cell_type": "code",
   "execution_count": null,
   "outputs": [],
   "source": [
    "test_portfolio.performance.net_worth.plot()"
   ],
   "metadata": {
    "collapsed": false,
    "pycharm": {
     "name": "#%%\n"
    }
   }
  },
  {
   "cell_type": "code",
   "execution_count": null,
   "outputs": [],
   "source": [],
   "metadata": {
    "collapsed": false,
    "pycharm": {
     "name": "#%%\n"
    }
   }
  },
  {
   "cell_type": "code",
   "execution_count": null,
   "outputs": [],
   "source": [],
   "metadata": {
    "collapsed": false,
    "pycharm": {
     "name": "#%%\n"
    }
   }
  },
  {
   "cell_type": "code",
   "execution_count": null,
   "outputs": [],
   "source": [],
   "metadata": {
    "collapsed": false,
    "pycharm": {
     "name": "#%%\n"
    }
   }
  },
  {
   "cell_type": "code",
   "execution_count": null,
   "outputs": [],
   "source": [],
   "metadata": {
    "collapsed": false,
    "pycharm": {
     "name": "#%%\n"
    }
   }
  }
 ],
 "metadata": {
  "kernelspec": {
   "display_name": "Python 3",
   "language": "python",
   "name": "python3"
  },
  "language_info": {
   "codemirror_mode": {
    "name": "ipython",
    "version": 3
   },
   "file_extension": ".py",
   "mimetype": "text/x-python",
   "name": "python",
   "nbconvert_exporter": "python",
   "pygments_lexer": "ipython3",
   "version": "3.8.5"
  }
 },
 "nbformat": 4,
 "nbformat_minor": 4
}